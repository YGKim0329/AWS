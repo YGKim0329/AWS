{
    "cells": [
        {
            "cell_type": "code",
            "execution_count": null,
            "metadata": {},
            "outputs": [],
            "source": [
                "import sys\n",
                "import io\n",
                "sys.path.append(\"/tf/notebooks/libs/\")\n",
                "#sys.path.append('/tf/notebooks/libs/AWS')\n",
                "import requests\n",
                "import AWS.Botosession\n",
                "import time\n",
                "\n",
                "import pandas as pd\n",
                "#슬랙세팅\n",
                "from SendSlack import *\n",
                "SendSlackSetDefaults(\"#s3_log\", \"s3-logger\")"
            ]
        },
        {
            "cell_type": "code",
            "execution_count": null,
            "metadata": {},
            "outputs": [],
            "source": [
                "AWS_REGION_NAME = 'ap-northeast-2'\n",
                "AWS_ATHENA_RESULT_BUCKETNAME = 'aws-athena-query-results-auto-ap-northeast-2'\n",
                "\n",
                "def Query(dbname, query):\n",
                "    '''\n",
                "    dbname : aws 데이터 카탈로그 이름\n",
                "    query : 쿼리명\n",
                "    리턴값 : 데이터프레임\n",
                "    \n",
                "    주의\n",
                "    1. exception 일 경우 대부분은 쿼리를 제대로 실행하지 못했을 경우임\n",
                "    2. 쿼리 result 는 aws-athena-query-results-auto-ap-northeast-2 버킷에 저장됨 (csv)\n",
                "    '''\n",
                "    global AWS_REGION_NAME\n",
                "    global AWS_ATHENA_RESULT_BUCKETNAME\n",
                "    \n",
                "    session = AWS.Botosession.session()\n",
                "    credentials = session.get_credentials()\n",
                "    # Credentials are refreshable, so accessing your access key / secret key\n",
                "    # separately can lead to a race condition. Use this to get an actual matched\n",
                "    # set.\n",
                "    credentials = credentials.get_frozen_credentials()\n",
                "    access_key = credentials.access_key\n",
                "    secret_key = credentials.secret_key\n",
                "    athena = session.client('athena')\n",
                "    bucketname = AWS_ATHENA_RESULT_BUCKETNAME\n",
                "    athenaquery_str = query\n",
                "    SendSlack(\"[S3 Download] begin query to athena : %s\"%athenaquery_str)\n",
                "    queryStart = athena.start_query_execution(\n",
                "        QueryString = athenaquery_str,\n",
                "        QueryExecutionContext = {\n",
                "            'Database': dbname\n",
                "        },\n",
                "        ResultConfiguration={\n",
                "            'OutputLocation':'s3://%s/'%bucketname\n",
                "        }\n",
                "    )\n",
                "    query_id = queryStart['QueryExecutionId']\n",
                "    while True:\n",
                "        qs = athena.get_query_execution(QueryExecutionId=query_id)\n",
                "        status = qs['QueryExecution']['Status']['State']\n",
                "        if status in ['SUCCEEDED', 'FAILED', 'CANCELLED']:\n",
                "            break\n",
                "        time.sleep(1)  # 200ms\n",
                "    SendSlack(\"finish athena query\")\n",
                "    SendSlack(\"get result from s3 with %s.csv\"%query_id)\n",
                "    s3r = session.resource('s3')\n",
                "    file = s3r.Object(bucketname, \"%s.csv\"%query_id)\n",
                "    f = file.get()['Body'].read()\n",
                "    SendSlack(\"finish get result ... making dataframe\")\n",
                "    df = pd.read_csv(io.BytesIO(f))\n",
                "    SendSlack(\"[S3 Download] finish make dataframe with rows = %d\"%len(df))\n",
                "    return df"
            ]
        },
        {
            "cell_type": "code",
            "execution_count": null,
            "metadata": {},
            "outputs": [],
            "source": []
        },
        {
            "cell_type": "code",
            "execution_count": null,
            "metadata": {},
            "outputs": [],
            "source": [
                "def MakeDateWhere(where_column, str_startdate, str_enddate, datetimeformat='%Y-%m-%d', step_seconds=86400):\n",
                "    import datetime\n",
                "    dbegin = datetime.datetime.strptime(str_startdate, datetimeformat)\n",
                "    dend = datetime.datetime.strptime(str_enddate, datetimeformat)\n",
                "    step = datetime.timedelta(seconds=step_seconds)\n",
                "    \n",
                "    lsdate = []\n",
                "    while dbegin <= dend:\n",
                "        lsdate.append(dbegin.strftime(datetimeformat))\n",
                "        dbegin += step    \n",
                "    if str_enddate not in lsdate:\n",
                "        lsdate.append(str_enddate)        \n",
                "    \n",
                "    return \" (\" + \" or \".join([f\"\\\"{where_column}\\\" = '{d}'\" for d in lsdate]) + \") \""
            ]
        },
        {
            "cell_type": "code",
            "execution_count": null,
            "metadata": {},
            "outputs": [],
            "source": [
                "if __name__ == \"__main__\":\n",
                "    print(MakeDateWhere('partition_0', '2020-03-23', '2020-04-02'))"
            ]
        },
        {
            "cell_type": "code",
            "execution_count": null,
            "metadata": {},
            "outputs": [],
            "source": [
                "if __name__ == \"__main__\":\n",
                "    display(Query('applodata', 'select * from \"applodata\";'))"
            ]
        },
        {
            "cell_type": "code",
            "execution_count": null,
            "metadata": {},
            "outputs": [],
            "source": []
        },
        {
            "cell_type": "code",
            "execution_count": null,
            "metadata": {},
            "outputs": [],
            "source": []
        }
    ],
    "metadata": {
        "kernelspec": {
            "display_name": "Python 3",
            "language": "python",
            "name": "python3"
        },
        "language_info": {
            "codemirror_mode": {
                "name": "ipython",
                "version": 3
            },
            "file_extension": ".py",
            "mimetype": "text/x-python",
            "name": "python",
            "nbconvert_exporter": "python",
            "pygments_lexer": "ipython3",
            "version": "3.7.4"
        }
    },
    "nbformat": 4,
    "nbformat_minor": 4
}